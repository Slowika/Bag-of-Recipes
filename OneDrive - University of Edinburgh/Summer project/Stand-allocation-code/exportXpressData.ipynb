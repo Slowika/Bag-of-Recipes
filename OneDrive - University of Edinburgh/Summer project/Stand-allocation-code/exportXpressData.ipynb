{
 "cells": [
  {
   "cell_type": "markdown",
   "metadata": {},
   "source": [
    "# Prepare Xpress Data"
   ]
  },
  {
   "cell_type": "code",
   "execution_count": 22,
   "metadata": {},
   "outputs": [],
   "source": [
    "import pandas as pd                             # data analysis library\n",
    "import openpyxl                                 # Read excel data\n",
    "import os"
   ]
  },
  {
   "cell_type": "code",
   "execution_count": 2,
   "metadata": {},
   "outputs": [],
   "source": [
    "def timedelta_startdate(row, AD):\n",
    "    if AD == 'arr':\n",
    "        col = row['DATETIME_x']\n",
    "    elif AD == 'dep':\n",
    "        col = row['DATETIME_y']\n",
    "    delta = col - start_date\n",
    "    return delta.days*24*60 + delta.seconds//60"
   ]
  },
  {
   "cell_type": "code",
   "execution_count": 3,
   "metadata": {},
   "outputs": [],
   "source": [
    "start_date_str = '08/04/2018'\n",
    "end_date_str   = '08/04/2018'\n",
    "\n",
    "# Convert strings to dates\n",
    "start_date = pd.to_datetime(start_date_str, format='%d/%m/%Y')\n",
    "end_date   = pd.to_datetime(end_date_str,   format='%d/%m/%Y')"
   ]
  },
  {
   "cell_type": "markdown",
   "metadata": {},
   "source": [
    "### Read linked flights"
   ]
  },
  {
   "cell_type": "code",
   "execution_count": 23,
   "metadata": {},
   "outputs": [],
   "source": [
    "data_path = os.path.join(os.getcwd(), 'output', 'turnarounds.csv')\n",
    "linked = pd.read_csv(data_path)\n",
    "\n",
    "# Convert datetimes to datetime format (currently string)\n",
    "linked.DATETIME_x = pd.to_datetime(linked.DATETIME_x)\n",
    "linked.DATETIME_y = pd.to_datetime(linked.DATETIME_y)"
   ]
  },
  {
   "cell_type": "markdown",
   "metadata": {},
   "source": [
    "### Read stand data from excel file"
   ]
  },
  {
   "cell_type": "code",
   "execution_count": 24,
   "metadata": {},
   "outputs": [],
   "source": [
    "# Open excel file\n",
    "data_path = os.path.join(os.getcwd(), 'data', 'standAllocationMaster.xlsx')\n",
    "wb = openpyxl.load_workbook(data_path)\n",
    "\n",
    "# Save first sheet with stand data\n",
    "standsSheet = wb['Stands']\n",
    "\n",
    "# Read stands from column D in stand sheet\n",
    "stands = []\n",
    "standGroups = []\n",
    "\n",
    "for row in range(3,200):\n",
    "    thisStand      = standsSheet.cell(row=row, column=4).value\n",
    "    thisStandGroup = standsSheet.cell(row=row, column=2).value\n",
    "    \n",
    "    if thisStand == None: break\n",
    "    stands.append(thisStand)\n",
    "    standGroups.append(thisStandGroup)"
   ]
  },
  {
   "cell_type": "markdown",
   "metadata": {},
   "source": [
    "### Export flight data"
   ]
  },
  {
   "cell_type": "code",
   "execution_count": 25,
   "metadata": {},
   "outputs": [],
   "source": [
    "#Convert arrival and departure times to total minutes with respect to the start date of the stand plan (midnight)\n",
    "arr_timeref = linked.apply(lambda row: timedelta_startdate(row, 'arr'), axis=1)\n",
    "dep_timeref = linked.apply(lambda row: timedelta_startdate(row, 'dep'), axis=1)\n",
    "\n",
    "buckets = ((end_date - start_date).days + 1) * 24 * 60 // 5\n",
    "\n",
    "data_path = os.path.join(os.getcwd(), 'data', 'flightData.txt')\n",
    "\n",
    "with open(data_path,\"w+\") as f:\n",
    "    f.write('numBuckets '   +  str(buckets))\n",
    "    f.write('\\nnumFlights ' + str(linked.shape[0]))\n",
    "    \n",
    "    f.write('\\narrFlightNo depFlightNo')\n",
    "    for arr, dep in zip(linked.SERVICE_x, linked.SERVICE_y):\n",
    "        f.write('\\n'+arr + ' ' + str(dep))\n",
    "        \n",
    "    f.write('\\narrTime depTime')\n",
    "    for arr, dep in zip(arr_timeref, dep_timeref):\n",
    "        f.write('\\n'+str(arr) + ' ' + str(dep))"
   ]
  },
  {
   "cell_type": "markdown",
   "metadata": {},
   "source": [
    "### Export airport data"
   ]
  },
  {
   "cell_type": "code",
   "execution_count": 10,
   "metadata": {},
   "outputs": [],
   "source": [
    "data_path = os.path.join(os.getcwd(), 'data', 'airportData.txt')\n",
    "\n",
    "with open(data_path,\"w+\") as f:\n",
    "    f.write('numStands ' + str(len(stands)))\n",
    "        \n",
    "    f.write('\\nStandNames')\n",
    "    for stand in stands:\n",
    "        f.write('\\n'+stand)"
   ]
  }
 ],
 "metadata": {
  "kernelspec": {
   "display_name": "Python 2",
   "language": "python",
   "name": "python2"
  },
  "language_info": {
   "codemirror_mode": {
    "name": "ipython",
    "version": 2
   },
   "file_extension": ".py",
   "mimetype": "text/x-python",
   "name": "python",
   "nbconvert_exporter": "python",
   "pygments_lexer": "ipython2",
   "version": "2.7.14"
  }
 },
 "nbformat": 4,
 "nbformat_minor": 2
}

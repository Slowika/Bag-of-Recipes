{
 "cells": [
  {
   "cell_type": "markdown",
   "metadata": {},
   "source": [
    "# Predicting potential ingredients given partial recipes"
   ]
  },
  {
   "cell_type": "code",
   "execution_count": 1,
   "metadata": {},
   "outputs": [],
   "source": [
    "# Import libraries\n",
    "from __future__ import print_function, division\n",
    "import os\n",
    "import numpy as np\n",
    "import pandas as pd\n",
    "import matplotlib.pyplot as plt\n",
    "import sklearn as sklearn\n",
    "import seaborn as sns\n",
    "import json\n",
    "from pandas.io.json import json_normalize\n",
    "from sklearn.feature_extraction.text import CountVectorizer\n",
    "import re\n",
    "%matplotlib inline"
   ]
  },
  {
   "cell_type": "markdown",
   "metadata": {},
   "source": [
    "## Convert data to bag-of-words"
   ]
  },
  {
   "cell_type": "markdown",
   "metadata": {},
   "source": [
    "Load datasets to notebook from json files, prepare data to convert to bag of words."
   ]
  },
  {
   "cell_type": "code",
   "execution_count": 2,
   "metadata": {
    "scrolled": true
   },
   "outputs": [
    {
     "name": "stdout",
     "output_type": "stream",
     "text": [
      "\n",
      "*  Recipe dictionary: \n",
      " {'id': 10259, 'cuisine': 'greek', 'ingredients': ['romaine lettuce', 'black olives', 'grape tomatoes', 'garlic', 'pepper', 'purple onion', 'seasoning', 'garbanzo beans', 'feta cheese crumbles']}\n",
      "\n",
      "*  Input for CountVectorizer: \n",
      " romainelettuce blackolives grapetomatoes garlic pepper purpleonion seasoning garbanzobeans fetacheesecrumbles\n"
     ]
    }
   ],
   "source": [
    "# Initialise empty lists\n",
    "train_ingr    = [] # Lists to save set of ingredients for each recipe...\n",
    "\n",
    "train_id      = [] # Lists to store recipe id for recipes in both\n",
    "\n",
    "train_cuisine = [] # Training data contains additional information with cuisine\n",
    "\n",
    "# Load json files as lists of dictionaries for each recipe\n",
    "with open('data/train.json') as json_file:  # Load train data\n",
    "    dict_train = json.load(json_file)\n",
    "\n",
    "    \n",
    "# Process the data to make it suitable for CountVectorizer    \n",
    "for train_recipe in dict_train: # iterate over dictionaries of recipes\n",
    "    \n",
    "    # For each dictionary with a recipe, replace spaces between words from the same ingredient \n",
    "    # with an underscore '_', then join all the ingredients in each recipe in a \n",
    "    # long string where ingredients are separated by spaces ' '.\n",
    "    concat_ingr_tr = ' '.join([word.replace(\" \", \"\") for word in train_recipe['ingredients']])\n",
    "    \n",
    "    # Append the result from previous step to the list of recipes with ingredients\n",
    "    train_ingr.append(concat_ingr_tr)\n",
    "    \n",
    "    # Append the recipe id to list of recipe id's\n",
    "    train_id.append(train_recipe['id'])\n",
    "    \n",
    "    # Append the cuisine to list of recipe id's\n",
    "    train_cuisine.append(train_recipe['cuisine'])\n",
    "    \n",
    "cuisine_dict = dict(zip(train_id, train_cuisine))   \n",
    "\n",
    "print(\"\\n*  Recipe dictionary: \\n\", dict_train[0])\n",
    "    \n",
    "# Display first three elements of test_ingr\n",
    "print(\"\\n*  Input for CountVectorizer: \\n\", train_ingr[0])"
   ]
  },
  {
   "cell_type": "markdown",
   "metadata": {},
   "source": [
    "Convert to 'bag-of-ingredients' format."
   ]
  },
  {
   "cell_type": "code",
   "execution_count": 3,
   "metadata": {},
   "outputs": [],
   "source": [
    "# Initialise CountVectorizer object\n",
    "vectorizer = CountVectorizer()\n",
    "\n",
    "# Transform list of ingredients to bag-of-ingredients format, for train and \n",
    "# test sets, and store in a pandas data frame\n",
    "X_train = pd.DataFrame(vectorizer.fit_transform(train_ingr).todense())\n",
    "\n",
    "# Add column names, using keys from vectorizer dictionary\n",
    "X_train.columns = sorted(vectorizer.vocabulary_, key=vectorizer.vocabulary_.get)\n",
    "\n",
    "# Add recipe id\n",
    "X_train.index = train_id"
   ]
  },
  {
   "cell_type": "markdown",
   "metadata": {},
   "source": [
    "## Clean up strange recipes & ingredients"
   ]
  },
  {
   "cell_type": "markdown",
   "metadata": {},
   "source": [
    "#### Explore the size of the datasets"
   ]
  },
  {
   "cell_type": "code",
   "execution_count": 4,
   "metadata": {},
   "outputs": [
    {
     "name": "stdout",
     "output_type": "stream",
     "text": [
      "Training data size:\n",
      " *  39774 recipes\n",
      " *  6802 ingredients\n"
     ]
    }
   ],
   "source": [
    "print(\"Training data size:\\n *  {} recipes\\n *  {} ingredients\".format(X_train.shape[0], X_train.shape[1]))"
   ]
  },
  {
   "cell_type": "markdown",
   "metadata": {},
   "source": [
    "#### Remove too rare/too common/nonsense ingredients"
   ]
  },
  {
   "cell_type": "code",
   "execution_count": 5,
   "metadata": {},
   "outputs": [
    {
     "name": "stdout",
     "output_type": "stream",
     "text": [
      "* ingredients removed for being numeric or appearing <= 3 times 3075\n",
      "\n",
      "* sample of infrequent ingredients\n",
      " 10oz               5\n",
      "14                 3\n",
      "14oz               2\n",
      "15oz               3\n",
      "1inchthick         2\n",
      "21                 2\n",
      "25                 3\n",
      "2to3lb             2\n",
      "33                 6\n",
      "40                12\n",
      "5oz                3\n",
      "7up                4\n",
      "8ounczitipasta     1\n",
      "95                 4\n",
      "abalone            2\n",
      "dtype: int64\n"
     ]
    }
   ],
   "source": [
    "# Count occurrences of each ingredient.\n",
    "ingr_count = X_train.sum(axis=0)\n",
    "\n",
    "def hasNumbers(inputString):\n",
    "     return any(char.isdigit() for char in inputString)\n",
    "    \n",
    "num_elem = [hasNumbers(ingr) for ingr in X_train.columns] # Ingredients that contain a number.\n",
    "leq_three = list(ingr_count <= 3)                         # Ingredients that appear three times or less.\n",
    "\n",
    "removed_idx = [a or b for a, b in zip(num_elem, leq_three)] # Ingredients that meet both criteria.\n",
    "\n",
    "# Sum number of ingredients that appear 3 times or less.\n",
    "print('* ingredients removed for being numeric or appearing <= 3 times',sum(removed_idx))\n",
    "\n",
    "# Display examples of infrequent ingredients.\n",
    "print('\\n* sample of infrequent ingredients\\n',ingr_count[0:15])\n",
    "\n",
    "# Drop ingredients with number or <4 occurences.\n",
    "X_train.drop(X_train.columns[removed_idx], axis = 1, inplace = True)\n",
    "\n",
    "# Remove other strange variables.\n",
    "remove_vars = ['all', 'half', 'extra']\n",
    "X_train.drop(columns = remove_vars, inplace = True)\n",
    "\n",
    "# Recount occurrence of ingredients.\n",
    "ingr_count = X_train.sum(axis=0)"
   ]
  },
  {
   "cell_type": "markdown",
   "metadata": {},
   "source": [
    "#### Remove recipes with too many or too few ingredients"
   ]
  },
  {
   "cell_type": "code",
   "execution_count": 6,
   "metadata": {},
   "outputs": [
    {
     "name": "stdout",
     "output_type": "stream",
     "text": [
      "Recipes with 2 ingredients or less: 268\n"
     ]
    }
   ],
   "source": [
    "# Count ingredients per recipe.\n",
    "recipe_count = X_train.sum(axis = 1)\n",
    "print('Recipes with 2 ingredients or less:', sum(recipe_count <= 2))\n",
    "\n",
    "not_too_few_idx = list(recipe_count > 2)\n",
    "not_too_many_idx = list(recipe_count < 30)\n",
    "\n",
    "# Remove recipes with <3 or >30 ingredients.\n",
    "X_train = X_train.loc[[a and b for a, b in zip(not_too_few_idx, not_too_many_idx)]]"
   ]
  },
  {
   "cell_type": "code",
   "execution_count": 7,
   "metadata": {
    "scrolled": true
   },
   "outputs": [
    {
     "name": "stdout",
     "output_type": "stream",
     "text": [
      "Training data size:\n",
      " *  39449 recipes\n",
      " *  3724 ingredients\n"
     ]
    }
   ],
   "source": [
    "print(\"Training data size:\\n *  {} recipes\\n *  {} ingredients\".format(X_train.shape[0], X_train.shape[1]))"
   ]
  },
  {
   "cell_type": "markdown",
   "metadata": {},
   "source": [
    "## Group equivalent ingredients in one variable\n",
    "Following [this](https://pdfs.semanticscholar.org/3f63/269aa7910774e9386b1ffb340a9e8638c02d.pdf) paper: <br>\n",
    "\"From the list of ingredients, a dictionary of the 355 most common ingredients occurring in at least 120 recipes was hand curated, then each recipe’s ingredient list was filtered with these words so that ingredients such as ‘1/2 teaspoon ground cardamom’ were reduced to simple ingredient features such as ‘cardamom’. In the end, the ingredients for each recipe were represented in an R355 binary vector, where the element in index i is 1 if ingredient i is present in the recipe, and 0 if absent. Quantities of the ingredients used were not taken into account.\"\n",
    "\n",
    "<font color='red'> 1. Drop ingredients immediately once they've matched a common ingredient? <br>\n",
    "2. What when e.g. beef and beef broth are both common ingredients? Do it from long to short takes care of this case, but doing it from short to long takes care of for example chicken versus 'bonelessskinlesschickenbreasthalves'. <br>\n",
    "3. Drop salt, water?</font>"
   ]
  },
  {
   "cell_type": "code",
   "execution_count": 8,
   "metadata": {},
   "outputs": [],
   "source": [
    "n_common = 100 # Number of most common ingredients to keep.\n",
    "ingr_count.sort_values(ascending = False, inplace = True) # Sort the list with ingredients by count.\n",
    "common_ingredients = list(ingr_count[:n_common].index) # Save the most common ingredients.\n",
    "noncommon_ingredients = [i for i in X_train.columns if not i in common_ingredients] # Save the noncommon ingredients."
   ]
  },
  {
   "cell_type": "code",
   "execution_count": 9,
   "metadata": {},
   "outputs": [],
   "source": [
    "# Loop over all common ingredients from longest string to shortest.\n",
    "for common_ingr in sorted(common_ingredients, key = len, reverse = False):\n",
    "    regex = re.compile('.*' + common_ingr + '.*')\n",
    "    \n",
    "    # Find the non-common ingredients matching this common ingredient.\n",
    "    ingr_to_group = list(filter(regex.search, noncommon_ingredients))\n",
    "    \n",
    "    if ingr_to_group != None:\n",
    "        \n",
    "        # Combine equivalent ingredients in the common ingredient's column.\n",
    "        X_train[common_ingr] = list(map(int, (X_train[ingr_to_group].sum(axis = 1) + X_train[common_ingr] >= 1)))\n",
    "    \n",
    "        # Drop the grouped non-common ingredients from the dataset.\n",
    "#         X_train.drop(columns = ingr_to_group, inplace = True)\n",
    "#         noncommon_ingredients = [i for i in X_train.columns if not i in common_ingredients]\n",
    "        \n",
    "X_train.drop(columns = noncommon_ingredients, inplace = True)"
   ]
  },
  {
   "cell_type": "code",
   "execution_count": 10,
   "metadata": {
    "scrolled": true
   },
   "outputs": [
    {
     "data": {
      "text/html": [
       "<div>\n",
       "<style scoped>\n",
       "    .dataframe tbody tr th:only-of-type {\n",
       "        vertical-align: middle;\n",
       "    }\n",
       "\n",
       "    .dataframe tbody tr th {\n",
       "        vertical-align: top;\n",
       "    }\n",
       "\n",
       "    .dataframe thead th {\n",
       "        text-align: right;\n",
       "    }\n",
       "</style>\n",
       "<table border=\"1\" class=\"dataframe\">\n",
       "  <thead>\n",
       "    <tr style=\"text-align: right;\">\n",
       "      <th></th>\n",
       "      <th>avocado</th>\n",
       "      <th>bakingpowder</th>\n",
       "      <th>bakingsoda</th>\n",
       "      <th>bayleaves</th>\n",
       "      <th>blackbeans</th>\n",
       "      <th>blackpepper</th>\n",
       "      <th>bonelessskinlesschickenbreasts</th>\n",
       "      <th>brownsugar</th>\n",
       "      <th>butter</th>\n",
       "      <th>buttermilk</th>\n",
       "      <th>...</th>\n",
       "      <th>tomatopaste</th>\n",
       "      <th>tomatosauce</th>\n",
       "      <th>unsaltedbutter</th>\n",
       "      <th>vanillaextract</th>\n",
       "      <th>vegetableoil</th>\n",
       "      <th>virginoliveoil</th>\n",
       "      <th>water</th>\n",
       "      <th>whitesugar</th>\n",
       "      <th>yellowonion</th>\n",
       "      <th>zucchini</th>\n",
       "    </tr>\n",
       "  </thead>\n",
       "  <tbody>\n",
       "    <tr>\n",
       "      <th>10259</th>\n",
       "      <td>0</td>\n",
       "      <td>0</td>\n",
       "      <td>0</td>\n",
       "      <td>0</td>\n",
       "      <td>0</td>\n",
       "      <td>0</td>\n",
       "      <td>0</td>\n",
       "      <td>0</td>\n",
       "      <td>0</td>\n",
       "      <td>0</td>\n",
       "      <td>...</td>\n",
       "      <td>0</td>\n",
       "      <td>0</td>\n",
       "      <td>0</td>\n",
       "      <td>0</td>\n",
       "      <td>0</td>\n",
       "      <td>0</td>\n",
       "      <td>0</td>\n",
       "      <td>0</td>\n",
       "      <td>0</td>\n",
       "      <td>0</td>\n",
       "    </tr>\n",
       "    <tr>\n",
       "      <th>25693</th>\n",
       "      <td>0</td>\n",
       "      <td>0</td>\n",
       "      <td>0</td>\n",
       "      <td>0</td>\n",
       "      <td>0</td>\n",
       "      <td>0</td>\n",
       "      <td>0</td>\n",
       "      <td>0</td>\n",
       "      <td>0</td>\n",
       "      <td>0</td>\n",
       "      <td>...</td>\n",
       "      <td>0</td>\n",
       "      <td>0</td>\n",
       "      <td>0</td>\n",
       "      <td>0</td>\n",
       "      <td>1</td>\n",
       "      <td>0</td>\n",
       "      <td>0</td>\n",
       "      <td>0</td>\n",
       "      <td>0</td>\n",
       "      <td>0</td>\n",
       "    </tr>\n",
       "    <tr>\n",
       "      <th>20130</th>\n",
       "      <td>0</td>\n",
       "      <td>0</td>\n",
       "      <td>0</td>\n",
       "      <td>0</td>\n",
       "      <td>0</td>\n",
       "      <td>0</td>\n",
       "      <td>0</td>\n",
       "      <td>0</td>\n",
       "      <td>1</td>\n",
       "      <td>0</td>\n",
       "      <td>...</td>\n",
       "      <td>0</td>\n",
       "      <td>0</td>\n",
       "      <td>0</td>\n",
       "      <td>0</td>\n",
       "      <td>0</td>\n",
       "      <td>0</td>\n",
       "      <td>0</td>\n",
       "      <td>0</td>\n",
       "      <td>1</td>\n",
       "      <td>0</td>\n",
       "    </tr>\n",
       "    <tr>\n",
       "      <th>22213</th>\n",
       "      <td>0</td>\n",
       "      <td>0</td>\n",
       "      <td>0</td>\n",
       "      <td>0</td>\n",
       "      <td>0</td>\n",
       "      <td>0</td>\n",
       "      <td>0</td>\n",
       "      <td>0</td>\n",
       "      <td>0</td>\n",
       "      <td>0</td>\n",
       "      <td>...</td>\n",
       "      <td>0</td>\n",
       "      <td>0</td>\n",
       "      <td>0</td>\n",
       "      <td>0</td>\n",
       "      <td>1</td>\n",
       "      <td>0</td>\n",
       "      <td>1</td>\n",
       "      <td>0</td>\n",
       "      <td>0</td>\n",
       "      <td>0</td>\n",
       "    </tr>\n",
       "    <tr>\n",
       "      <th>13162</th>\n",
       "      <td>0</td>\n",
       "      <td>0</td>\n",
       "      <td>0</td>\n",
       "      <td>0</td>\n",
       "      <td>0</td>\n",
       "      <td>1</td>\n",
       "      <td>0</td>\n",
       "      <td>0</td>\n",
       "      <td>1</td>\n",
       "      <td>0</td>\n",
       "      <td>...</td>\n",
       "      <td>0</td>\n",
       "      <td>0</td>\n",
       "      <td>0</td>\n",
       "      <td>0</td>\n",
       "      <td>0</td>\n",
       "      <td>0</td>\n",
       "      <td>1</td>\n",
       "      <td>0</td>\n",
       "      <td>0</td>\n",
       "      <td>0</td>\n",
       "    </tr>\n",
       "  </tbody>\n",
       "</table>\n",
       "<p>5 rows × 100 columns</p>\n",
       "</div>"
      ],
      "text/plain": [
       "       avocado  bakingpowder  bakingsoda  bayleaves  blackbeans  blackpepper  \\\n",
       "10259        0             0           0          0           0            0   \n",
       "25693        0             0           0          0           0            0   \n",
       "20130        0             0           0          0           0            0   \n",
       "22213        0             0           0          0           0            0   \n",
       "13162        0             0           0          0           0            1   \n",
       "\n",
       "       bonelessskinlesschickenbreasts  brownsugar  butter  buttermilk  \\\n",
       "10259                               0           0       0           0   \n",
       "25693                               0           0       0           0   \n",
       "20130                               0           0       1           0   \n",
       "22213                               0           0       0           0   \n",
       "13162                               0           0       1           0   \n",
       "\n",
       "         ...     tomatopaste  tomatosauce  unsaltedbutter  vanillaextract  \\\n",
       "10259    ...               0            0               0               0   \n",
       "25693    ...               0            0               0               0   \n",
       "20130    ...               0            0               0               0   \n",
       "22213    ...               0            0               0               0   \n",
       "13162    ...               0            0               0               0   \n",
       "\n",
       "       vegetableoil  virginoliveoil  water  whitesugar  yellowonion  zucchini  \n",
       "10259             0               0      0           0            0         0  \n",
       "25693             1               0      0           0            0         0  \n",
       "20130             0               0      0           0            1         0  \n",
       "22213             1               0      1           0            0         0  \n",
       "13162             0               0      1           0            0         0  \n",
       "\n",
       "[5 rows x 100 columns]"
      ]
     },
     "execution_count": 10,
     "metadata": {},
     "output_type": "execute_result"
    }
   ],
   "source": [
    "X_train.head()"
   ]
  },
  {
   "cell_type": "code",
   "execution_count": 30,
   "metadata": {},
   "outputs": [],
   "source": [
    "# Check new ingredient counts.\n",
    "ingr_count2 = X_train.drop(columns='cuisine').sum(axis=0)\n",
    "ingr_count2.sort_values(ascending = False, inplace = True)"
   ]
  },
  {
   "cell_type": "markdown",
   "metadata": {},
   "source": [
    "## Add back cuisine information and save preprocessed data to CSV"
   ]
  },
  {
   "cell_type": "code",
   "execution_count": 11,
   "metadata": {},
   "outputs": [],
   "source": [
    "X_train['cuisine'] = pd.Series(cuisine_dict)"
   ]
  },
  {
   "cell_type": "code",
   "execution_count": 12,
   "metadata": {},
   "outputs": [],
   "source": [
    "X_train.to_csv('train_dataset.csv', sep = '\\t')"
   ]
  }
 ],
 "metadata": {
  "kernelspec": {
   "display_name": "Python 3",
   "language": "python",
   "name": "python3"
  },
  "language_info": {
   "codemirror_mode": {
    "name": "ipython",
    "version": 3
   },
   "file_extension": ".py",
   "mimetype": "text/x-python",
   "name": "python",
   "nbconvert_exporter": "python",
   "pygments_lexer": "ipython3",
   "version": "3.6.4"
  }
 },
 "nbformat": 4,
 "nbformat_minor": 2
}

{
 "cells": [
  {
   "cell_type": "code",
   "execution_count": 83,
   "metadata": {},
   "outputs": [],
   "source": [
    "import os\n",
    "import random\n",
    "import numpy as np\n",
    "import pandas as pd\n",
    "import matplotlib.pyplot as plt\n",
    "import sklearn as sklearn\n",
    "import seaborn as sns\n",
    "import statistics\n",
    "\n",
    "\n",
    "from sklearn.metrics.pairwise import cosine_similarity\n",
    "from sklearn.model_selection  import train_test_split\n",
    "from similarity_functions     import asymmetric_cosine, jaccard \n",
    "\n",
    "#from sklearn.metrics import jaccard_similarity_score\n",
    "# from composes.transformation.scaling.ppmi_weighting import PpmiWeighting\n",
    "\n",
    "%matplotlib inline"
   ]
  },
  {
   "cell_type": "code",
   "execution_count": 48,
   "metadata": {},
   "outputs": [],
   "source": [
    "# Load data.\n",
    "X_train = pd.read_csv('train_dataset.csv', sep = '\\t', index_col = 0).drop('cuisine', axis = 1)\n",
    "cuisines = pd.read_csv('train_dataset.csv', sep = '\\t', usecols = ['cuisine'])\n",
    "cuisines.set_index(X_train.index, inplace = True)"
   ]
  },
  {
   "cell_type": "code",
   "execution_count": 49,
   "metadata": {},
   "outputs": [],
   "source": [
    "# Calculate cosine similarities.\n",
    "sims = cosine_similarity(X_train.T)\n",
    "np.fill_diagonal(sims, 0)"
   ]
  },
  {
   "cell_type": "code",
   "execution_count": 50,
   "metadata": {},
   "outputs": [],
   "source": [
    "def recommend_ingredients(partial_recipes, user_item_matrix, k = 10, similarity_measure = \"cosine\", \n",
    "                          similarity_matrix = None, n_recommendations = 10, alpha = 0.2):\n",
    "    \"\"\"Recommend ingredients to (partial) recipes based on the similarity between ingredients.\n",
    "    \n",
    "    Inputs:\n",
    "        - partial_recipes: pandas dataframe of recipes that ingredient recommendations are produced for. Should be\n",
    "                           of the shape recipes x ingredients.\n",
    "        - user_item_matrix: pandas dataframe of training recipes. Should be of the shape recipes x ingredients.\n",
    "        - k: number of neighbours (ingredients) used when calculating the ingredient recommendation scores.\n",
    "        - similarity_measure: the measure used for calculating the similarity between ingredients. One of\n",
    "                              'cosine', 'asymmetric_cosine', 'jaccard', 'pmi'.\n",
    "        - similarity_matrix: the precomputed matrix of ingredient similarities. If not given, this will be\n",
    "                             computed by the function.\n",
    "        - n_recommendations: the desired number of recommended ingredients per recipe.\n",
    "        \n",
    "    Outputs a matrix of the recommended ingredients (columns) for the given partial recipes (rows).\n",
    "        \n",
    "    \"\"\"\n",
    "    \n",
    "    # Calculate the similarity matrix if none was given as input.\n",
    "    if similarity_matrix == None:\n",
    "        \n",
    "        if similarity_measure == \"cosine\":\n",
    "            similarity_matrix = cosine_similarity(user_item_matrix.T)\n",
    "            \n",
    "        elif similarity_measure == \"asymmetric_cosine\":\n",
    "            similarity_matrix = asymmetric_cosine(user_item_matrix, alpha)\n",
    "            \n",
    "        elif similarity_measure == \"jaccard\":\n",
    "            similarity_matrix = jaccard(user_item_matrix)\n",
    "            \n",
    "        elif similarity_measure == \"pmi\":\n",
    "            pass\n",
    "        \n",
    "        else: \n",
    "            raise ValueError(\"The similarity measure must be one of: 'cosine', \n",
    "                             'asymmetric_cosine', 'jaccard', 'pmi'.\")\n",
    "    \n",
    "    # Set similarity to self to zero.\n",
    "    np.fill_diagonal(similarity_matrix, 0) \n",
    "    \n",
    "    # For each ingredient, find the ingredients that are not among the k most similar and set similarity to zero.\n",
    "    for i in range(np.shape(similarity_matrix)[0]):\n",
    "        not_kNN = similarity_matrix[i, ] < sims[i, np.argpartition(sims[i, ], -k)[-k]]\n",
    "        similarity_matrix[i, not_kNN] = 0\n",
    "\n",
    "    # Calculate the ingredient scores.\n",
    "    ingredient_scores = np.matmul(similarity_matrix, partial_recipes.T) / \n",
    "                             np.sum(abs(similarity_matrix), axis = 1)[:, None]\n",
    "    ingredient_scores = ingredient_scores.T\n",
    "    \n",
    "    # Set ingredient scores of already present ingredients to zero.\n",
    "    ingredient_scores[partial_recipes == 1] = 0\n",
    "    \n",
    "    # For each recipe, get the indices of the *n_recommendations* highest-scoring ingredients.\n",
    "    recommendations_idx = np.argpartition(ingredient_scores, -n_recommendations).T[-n_recommendations:].T\n",
    "    \n",
    "    # Convert recommendation indices to ingredient names.\n",
    "    recommendations = user_item_matrix.columns[recommendations_idx]\n",
    "    \n",
    "    return recommendations"
   ]
  },
  {
   "cell_type": "code",
   "execution_count": 51,
   "metadata": {
    "scrolled": true
   },
   "outputs": [],
   "source": [
    "# Apply CF with cosine similarity to original recipes.\n",
    "recommendations = recommend_ingredients(X_train, X_train)"
   ]
  },
  {
   "cell_type": "code",
   "execution_count": 6,
   "metadata": {
    "scrolled": false
   },
   "outputs": [
    {
     "name": "stdout",
     "output_type": "stream",
     "text": [
      "Recipe 3735 (italian): \n",
      "Index(['bakingpowder', 'eggs', 'flour', 'oliveoil', 'sugar', 'vanillaextract'], dtype='object')\n",
      "\n",
      "Recommended ingredients: \n",
      "Index(['buttermilk', 'purposeflour', 'unsaltedbutter', 'largeeggs', 'butter',\n",
      "       'bakingsoda', 'granulatedsugar', 'whitesugar', 'milk',\n",
      "       'groundcinnamon'],\n",
      "      dtype='object')\n",
      "\n",
      "\n",
      "Recipe 13162 (indian): \n",
      "Index(['blackpepper', 'butter', 'cayennepepper', 'chicken', 'chilipowder',\n",
      "       'flour', 'garammasala', 'garlic', 'groundcumin', 'lemonjuice', 'milk',\n",
      "       'oil', 'onions', 'salt', 'shallots', 'water'],\n",
      "      dtype='object')\n",
      "\n",
      "Recommended ingredients: \n",
      "Index(['cumin', 'carrots', 'vegetableoil', 'garlicpowder', 'groundturmeric',\n",
      "       'chickenbroth', 'bayleaves', 'paprika', 'pepper', 'potatoes'],\n",
      "      dtype='object')\n",
      "\n",
      "\n",
      "Recipe 42779 (spanish): \n",
      "Index(['cilantro', 'flatleafparsley', 'garlic', 'jalapenochilies', 'oliveoil',\n",
      "       'pepper', 'salt', 'seasalt', 'shrimp'],\n",
      "      dtype='object')\n",
      "\n",
      "Recommended ingredients: \n",
      "Index(['shallots', 'onions', 'tomatoes', 'lime', 'purpleonion', 'lemonjuice',\n",
      "       'bonelessskinlesschickenbreasts', 'blackpepper', 'yellowonion',\n",
      "       'limejuice'],\n",
      "      dtype='object')\n",
      "\n",
      "\n"
     ]
    }
   ],
   "source": [
    "# Print some recipe + recommendation samples.\n",
    "recipe1 = 7\n",
    "recipe2 = 4\n",
    "recipe3 = 6\n",
    "\n",
    "print('Recipe {} ({}): \\n{}\\n'.format(X_train.index[recipe1], \n",
    "                                      cuisines.iloc[recipe1, 0],\n",
    "                                      X_train.columns[np.where(X_train.iloc[recipe1,] != 0)]))\n",
    "print('Recommended ingredients: \\n{}\\n\\n'.format(recommendations[recipe1,]))\n",
    "\n",
    "print('Recipe {} ({}): \\n{}\\n'.format(X_train.index[recipe2], \n",
    "                                      cuisines.iloc[recipe2, 0],\n",
    "                                      X_train.columns[np.where(X_train.iloc[recipe2,] != 0)]))\n",
    "print('Recommended ingredients: \\n{}\\n\\n'.format(recommendations[recipe2,]))\n",
    "\n",
    "print('Recipe {} ({}): \\n{}\\n'.format(X_train.index[recipe3],\n",
    "                                      cuisines.iloc[recipe3, 0],\n",
    "                                      X_train.columns[np.where(X_train.iloc[recipe3,] != 0)]))\n",
    "print('Recommended ingredients: \\n{}\\n\\n'.format(recommendations[recipe3,]))"
   ]
  },
  {
   "cell_type": "markdown",
   "metadata": {},
   "source": [
    "### Evaluation"
   ]
  },
  {
   "cell_type": "code",
   "execution_count": 70,
   "metadata": {},
   "outputs": [
    {
     "name": "stderr",
     "output_type": "stream",
     "text": [
      "/Users/Aga/miniconda3/envs/mlp/lib/python3.6/site-packages/ipykernel_launcher.py:42: RuntimeWarning: divide by zero encountered in true_divide\n",
      "/Users/Aga/miniconda3/envs/mlp/lib/python3.6/site-packages/ipykernel_launcher.py:42: RuntimeWarning: invalid value encountered in true_divide\n"
     ]
    },
    {
     "data": {
      "text/plain": [
       "(['lettuce', 'thyme', 'powder_garlic', 'leaf', 'ginger_fresh'],\n",
       " [array(['mustard_seeds', 'orange', 'linguine', 'mozzarella_cheese',\n",
       "         'monterey_jack', 'mirin', 'mint', 'margarine', 'mango',\n",
       "         'pepper_yellow_bell'], dtype=object),\n",
       "  array(['noodles', 'orange_juice', 'mango', 'mushrooms',\n",
       "         'mozzarella_cheese', 'monterey_jack', 'mirin', 'mint', 'margarine',\n",
       "         'pepper_yellow_bell'], dtype=object),\n",
       "  array(['mustard', 'olives', 'linguine', 'monterey_jack', 'mirin', 'mint',\n",
       "         'mayonaise', 'margarine', 'mango', 'pepper_yellow_bell'],\n",
       "        dtype=object),\n",
       "  array(['mustard', 'okra', 'linguine', 'monterey_jack', 'mirin', 'mint',\n",
       "         'masala', 'margarine', 'mango', 'pepper_yellow_bell'], dtype=object),\n",
       "  array(['noodles', 'orange_juice', 'mango', 'mushrooms',\n",
       "         'mozzarella_cheese', 'monterey_jack', 'mirin', 'mint', 'margarine',\n",
       "         'pepper_yellow_bell'], dtype=object)])"
      ]
     },
     "execution_count": 70,
     "metadata": {},
     "output_type": "execute_result"
    }
   ],
   "source": [
    "def held_out_recommendation(user_item_matrix, model_config=[10,\"cosine\", None, 10]):\n",
    "    \"\"\"\n",
    "    Returns a list of held out ingredients and a list of corresponding recommendations\n",
    "    \"\"\"\n",
    "    held_out_ingredients = []\n",
    "    recommendations = []\n",
    "\n",
    "    for index, row in user_item_matrix.iterrows():\n",
    "        # Current training data: exclude the recipe tested\n",
    "        X_curr = user_item_matrix.copy()\n",
    "        X_curr.drop(index, inplace=True)\n",
    "        \n",
    "        # Current testing example: remove one ingredient\n",
    "        recipe = row.copy()\n",
    "        ing = recipe[recipe==1].sample(axis=0).index.values[0]\n",
    "        recipe[ing] = 0\n",
    "        \n",
    "        # Model tested\n",
    "        k = model_config[0]\n",
    "        similarity_measure = model_config[1]\n",
    "        similarity_matrix = model_config[2]\n",
    "        n_recommendations = model_config[3]\n",
    "        \n",
    "        # Get recommendations\n",
    "        recommendation = recommend_ingredients(recipe, X_curr, k, similarity_measure, similarity_matrix, n_recommendations)[0]\n",
    "        \n",
    "        # Store the removed ingredient and corresponding recommendations\n",
    "        held_out_ingredients.append(ing)\n",
    "        recommendations.append(recommendation)\n",
    "        \n",
    "    return (held_out_ingredients, recommendations)\n",
    "\n",
    "# Example\n",
    "held_out_recommendation(X_train.head())\n",
    "    "
   ]
  },
  {
   "cell_type": "code",
   "execution_count": 95,
   "metadata": {},
   "outputs": [
    {
     "name": "stderr",
     "output_type": "stream",
     "text": [
      "/Users/Aga/miniconda3/envs/mlp/lib/python3.6/site-packages/ipykernel_launcher.py:42: RuntimeWarning: divide by zero encountered in true_divide\n",
      "/Users/Aga/miniconda3/envs/mlp/lib/python3.6/site-packages/ipykernel_launcher.py:42: RuntimeWarning: invalid value encountered in true_divide\n"
     ]
    },
    {
     "name": "stdout",
     "output_type": "stream",
     "text": [
      "4.5\n",
      "3.5\n"
     ]
    }
   ],
   "source": [
    "def metric_1(user_item_matrix, model_config=[10,\"cosine\", None, 10]):\n",
    "    \"\"\"\n",
    "    Returns the percentage of recipes for which the missing ingredient\n",
    "    is among the top-10 recommended ingredients. (Mean Precision @ 10)\n",
    "    \"\"\"\n",
    "    \n",
    "    missing_ingredients, recommendations = held_out_recommendation(user_item_matrix, model_config)\n",
    "    \n",
    "    matches = [1 for i in range(len(missing_ingredients)) if missing_ingredients[i] in recommendations[i][:10]]\n",
    "\n",
    "    return len(matches)/len(missing_ingredients)\n",
    "\n",
    "def metric_2(user_item_matrix, model_config=[10,\"cosine\", None, 10]):\n",
    "    \"\"\"\n",
    "    Mean rank of the missing ingredients in the list of recommended ingredients.\n",
    "    \"\"\"\n",
    "    \n",
    "    missing_ingredients, recommendations = held_out_recommendation(user_item_matrix, model_config)\n",
    "\n",
    "    ranks = [np.where(missing_ingredients[i] == recommendations[i])[0][0]\n",
    "             for i in range(len(missing_ingredients)) if missing_ingredients[i] in recommendations[i]]\n",
    "\n",
    "    return sum(ranks)/len(ranks)\n",
    "\n",
    "def metric_3(user_item_matrix, model_config=[10,\"cosine\", None, 10]):\n",
    "    \"\"\"\n",
    "    Median rank of the missing ingredients in the list of recommended ingredients.\n",
    "    \"\"\"\n",
    "    \n",
    "    missing_ingredients, recommendations = held_out_recommendation(user_item_matrix, model_config)\n",
    "\n",
    "    ranks = [np.where(missing_ingredients[i] == recommendations[i])[0][0]\n",
    "             for i in range(len(missing_ingredients)) if missing_ingredients[i] in recommendations[i]]\n",
    "\n",
    "    return statistics.median(sorted(ranks))\n",
    "\n",
    "\n",
    "# Examples        \n",
    "#print(metric_1(X_train.head(1000)))\n",
    "#print(metric_2(X_train.head(1000)))\n",
    "#print(metric_3(X_train.head(1000)))"
   ]
  },
  {
   "cell_type": "code",
   "execution_count": null,
   "metadata": {},
   "outputs": [],
   "source": []
  }
 ],
 "metadata": {
  "kernelspec": {
   "display_name": "Python 3",
   "language": "python",
   "name": "python3"
  },
  "language_info": {
   "codemirror_mode": {
    "name": "ipython",
    "version": 3
   },
   "file_extension": ".py",
   "mimetype": "text/x-python",
   "name": "python",
   "nbconvert_exporter": "python",
   "pygments_lexer": "ipython3",
   "version": "3.6.4"
  }
 },
 "nbformat": 4,
 "nbformat_minor": 2
}

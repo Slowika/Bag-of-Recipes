{
 "cells": [
  {
   "cell_type": "code",
   "execution_count": 1,
   "metadata": {},
   "outputs": [],
   "source": [
    "import os\n",
    "import numpy as np\n",
    "import pandas as pd\n",
    "import matplotlib.pyplot as plt\n",
    "import sklearn as sklearn\n",
    "import seaborn as sns\n",
    "\n",
    "from sklearn.metrics.pairwise import cosine_similarity\n",
    "from sklearn.metrics import jaccard_similarity_score\n",
    "# from composes.transformation.scaling.ppmi_weighting import PpmiWeighting\n",
    "\n",
    "%matplotlib inline"
   ]
  },
  {
   "cell_type": "code",
   "execution_count": 2,
   "metadata": {},
   "outputs": [],
   "source": [
    "# Load data.\n",
    "X_train = pd.read_csv('train_dataset.csv', sep = '\\t', index_col = 0).drop('cuisine', axis = 1)\n",
    "cuisines = pd.read_csv('train_dataset.csv', sep = '\\t', usecols = ['cuisine'])\n",
    "cuisines.set_index(X_train.index, inplace = True)"
   ]
  },
  {
   "cell_type": "code",
   "execution_count": 3,
   "metadata": {},
   "outputs": [],
   "source": [
    "# Calculate cosine similarities.\n",
    "sims = cosine_similarity(X_train.T)\n",
    "np.fill_diagonal(sims, 0)"
   ]
  },
  {
   "cell_type": "code",
   "execution_count": 4,
   "metadata": {},
   "outputs": [],
   "source": [
    "def recommend_ingredients(partial_recipes, user_item_matrix, k = 10, similarity_measure = \"cosine\", \n",
    "                          similarity_matrix = None, n_recommendations = 10):\n",
    "    \"\"\"Recommend ingredients to (partial) recipes based on the similarity between ingredients.\n",
    "    \n",
    "    Inputs:\n",
    "        - partial_recipes: pandas dataframe of recipes that ingredient recommendations are produced for. Should be\n",
    "                           of the shape recipes x ingredients.\n",
    "        - user_item_matrix: pandas dataframe of training recipes. Should be of the shape recipes x ingredients.\n",
    "        - k: number of neighbours (ingredients) used when calculating the ingredient recommendation scores.\n",
    "        - similarity_measure: the measure used for calculating the similarity between ingredients. One of\n",
    "                              'cosine', 'asymmetric_cosine', 'jaccard', 'pmi'.\n",
    "        - similarity_matrix: the precomputed matrix of ingredient similarities. If not given, this will be\n",
    "                             computed by the function.\n",
    "        - n_recommendations: the desired number of recommended ingredients per recipe.\n",
    "        \n",
    "    Outputs a matrix of the recommended ingredients (columns) for the given partial recipes (rows).\n",
    "        \n",
    "    \"\"\"\n",
    "    \n",
    "    # Calculate the similarity matrix if none was given as input.\n",
    "    if similarity_matrix == None:\n",
    "        if similarity_measure == \"cosine\":\n",
    "            similarity_matrix = cosine_similarity(user_item_matrix.T)\n",
    "        elif similarity_measure == \"asymmetric_cosine\":\n",
    "            pass\n",
    "        elif similarity_measure == \"jaccard\":\n",
    "            pass\n",
    "        elif similarity_measure == \"pmi\":\n",
    "            pass\n",
    "        else: \n",
    "            raise ValueError(\"The similarity measure must be one of: 'cosine', 'asymmetric_cosine', 'jaccard', 'pmi'.\")\n",
    "    \n",
    "    # Set similarity to self to zero.\n",
    "    np.fill_diagonal(similarity_matrix, 0) \n",
    "    \n",
    "    # For each ingredient, find the ingredients that are not among the k most similar and set similarity to zero.\n",
    "    for i in range(np.shape(similarity_matrix)[0]):\n",
    "        not_kNN = similarity_matrix[i, ] < sims[i, np.argpartition(sims[i, ], -k)[-k]]\n",
    "        similarity_matrix[i, not_kNN] = 0\n",
    "\n",
    "    # Calculate the ingredient scores.\n",
    "    ingredient_scores = np.matmul(similarity_matrix, partial_recipes.T) / np.sum(abs(similarity_matrix), axis = 1)[:, None]\n",
    "    ingredient_scores = ingredient_scores.T\n",
    "    \n",
    "    # Set ingredient scores of already present ingredients to zero.\n",
    "    ingredient_scores[partial_recipes == 1] = 0\n",
    "    \n",
    "    # For each recipe, get the indices of the *n_recommendations* highest-scoring ingredients.\n",
    "    recommendations_idx = np.argpartition(ingredient_scores, -n_recommendations).T[-n_recommendations:].T\n",
    "    \n",
    "    # Convert recommendation indices to ingredient names.\n",
    "    recommendations = user_item_matrix.columns[recommendations_idx]\n",
    "    \n",
    "    return recommendations"
   ]
  },
  {
   "cell_type": "code",
   "execution_count": 5,
   "metadata": {
    "scrolled": true
   },
   "outputs": [],
   "source": [
    "# Apply CF with cosine similarity to original recipes.\n",
    "recommendations = recommend_ingredients(X_train, X_train)"
   ]
  },
  {
   "cell_type": "code",
   "execution_count": 6,
   "metadata": {
    "scrolled": false
   },
   "outputs": [
    {
     "name": "stdout",
     "output_type": "stream",
     "text": [
      "Recipe 3735 (italian): \n",
      "Index(['bakingpowder', 'eggs', 'flour', 'oliveoil', 'sugar', 'vanillaextract'], dtype='object')\n",
      "\n",
      "Recommended ingredients: \n",
      "Index(['buttermilk', 'purposeflour', 'unsaltedbutter', 'largeeggs', 'butter',\n",
      "       'bakingsoda', 'granulatedsugar', 'whitesugar', 'milk',\n",
      "       'groundcinnamon'],\n",
      "      dtype='object')\n",
      "\n",
      "\n",
      "Recipe 13162 (indian): \n",
      "Index(['blackpepper', 'butter', 'cayennepepper', 'chicken', 'chilipowder',\n",
      "       'flour', 'garammasala', 'garlic', 'groundcumin', 'lemonjuice', 'milk',\n",
      "       'oil', 'onions', 'salt', 'shallots', 'water'],\n",
      "      dtype='object')\n",
      "\n",
      "Recommended ingredients: \n",
      "Index(['cumin', 'carrots', 'vegetableoil', 'garlicpowder', 'groundturmeric',\n",
      "       'chickenbroth', 'bayleaves', 'paprika', 'pepper', 'potatoes'],\n",
      "      dtype='object')\n",
      "\n",
      "\n",
      "Recipe 42779 (spanish): \n",
      "Index(['cilantro', 'flatleafparsley', 'garlic', 'jalapenochilies', 'oliveoil',\n",
      "       'pepper', 'salt', 'seasalt', 'shrimp'],\n",
      "      dtype='object')\n",
      "\n",
      "Recommended ingredients: \n",
      "Index(['shallots', 'onions', 'tomatoes', 'lime', 'purpleonion', 'lemonjuice',\n",
      "       'bonelessskinlesschickenbreasts', 'blackpepper', 'yellowonion',\n",
      "       'limejuice'],\n",
      "      dtype='object')\n",
      "\n",
      "\n"
     ]
    }
   ],
   "source": [
    "# Print some recipe + recommendation samples.\n",
    "recipe1 = 7\n",
    "recipe2 = 4\n",
    "recipe3 = 6\n",
    "\n",
    "print('Recipe {} ({}): \\n{}\\n'.format(X_train.index[recipe1], \n",
    "                                      cuisines.iloc[recipe1, 0],\n",
    "                                      X_train.columns[np.where(X_train.iloc[recipe1,] != 0)]))\n",
    "print('Recommended ingredients: \\n{}\\n\\n'.format(recommendations[recipe1,]))\n",
    "\n",
    "print('Recipe {} ({}): \\n{}\\n'.format(X_train.index[recipe2], \n",
    "                                      cuisines.iloc[recipe2, 0],\n",
    "                                      X_train.columns[np.where(X_train.iloc[recipe2,] != 0)]))\n",
    "print('Recommended ingredients: \\n{}\\n\\n'.format(recommendations[recipe2,]))\n",
    "\n",
    "print('Recipe {} ({}): \\n{}\\n'.format(X_train.index[recipe3],\n",
    "                                      cuisines.iloc[recipe3, 0],\n",
    "                                      X_train.columns[np.where(X_train.iloc[recipe3,] != 0)]))\n",
    "print('Recommended ingredients: \\n{}\\n\\n'.format(recommendations[recipe3,]))"
   ]
  }
 ],
 "metadata": {
  "kernelspec": {
   "display_name": "Python 3",
   "language": "python",
   "name": "python3"
  },
  "language_info": {
   "codemirror_mode": {
    "name": "ipython",
    "version": 3
   },
   "file_extension": ".py",
   "mimetype": "text/x-python",
   "name": "python",
   "nbconvert_exporter": "python",
   "pygments_lexer": "ipython3",
   "version": "3.6.4"
  }
 },
 "nbformat": 4,
 "nbformat_minor": 2
}

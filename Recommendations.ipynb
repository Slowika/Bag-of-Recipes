{
 "cells": [
  {
   "cell_type": "code",
   "execution_count": 1,
   "metadata": {},
   "outputs": [],
   "source": [
    "import os\n",
    "import random\n",
    "import numpy as np\n",
    "import pandas as pd\n",
    "import matplotlib.pyplot as plt\n",
    "import sklearn as sklearn\n",
    "import seaborn as sns\n",
    "import itertools\n",
    "\n",
    "from sklearn.model_selection             import train_test_split\n",
    "from recommendation_evaluation_functions import recommend_ingredients, held_out_recommendation, calculate_metrics\n",
    "\n",
    "np.seterr(divide='ignore', invalid='ignore')\n",
    "%matplotlib inline"
   ]
  },
  {
   "cell_type": "code",
   "execution_count": 2,
   "metadata": {
    "collapsed": true
   },
   "outputs": [],
   "source": [
    "# Load data.\n",
    "X = pd.read_csv('train_dataset.csv', sep = '\\t', index_col = 0).drop('cuisine', axis = 1)\n",
    "cuisines = pd.read_csv('train_dataset.csv', sep = '\\t', usecols = ['cuisine'])\n",
    "cuisines.set_index(X.index, inplace = True)"
   ]
  },
  {
   "cell_type": "code",
   "execution_count": 3,
   "metadata": {
    "scrolled": false
   },
   "outputs": [],
   "source": [
    "# Apply CF to original recipes.\n",
    "recommendations = recommend_ingredients(X.head(1050), X.head(1050), similarity_measure = \"jaccard\")"
   ]
  },
  {
   "cell_type": "code",
   "execution_count": 4,
   "metadata": {
    "scrolled": false
   },
   "outputs": [
    {
     "name": "stdout",
     "output_type": "stream",
     "text": [
      "Recipe 16903 (mexican): \n",
      "Index(['cheddar_cheese', 'jalapeno_chilies', 'lettuce', 'lime', 'pork',\n",
      "       'purple_onion', 'peppers', 'olive', 'cilantro_chopped_fresh',\n",
      "       'pepper_ground_black', 'tortillas_corn'],\n",
      "      dtype='object')\n",
      "\n",
      "Recommended ingredients: \n",
      "Index(['tomatoes', 'garlic', 'cheese', 'tortilla', 'kosher_salt',\n",
      "       'garlic_cloves', 'avocado', 'cilantro_chopped', 'onions', 'chile'],\n",
      "      dtype='object')\n",
      "\n",
      "\n",
      "Recipe 45887 (chinese): \n",
      "Index(['canola', 'garlic', 'mustard', 'scallions', 'sesame', 'sugar', 'wine',\n",
      "       'starch_corn', 'crushed_pepper_flakes', 'ginger_fresh', 'beans_green',\n",
      "       'sodium_sauce', 'pepper_white'],\n",
      "      dtype='object')\n",
      "\n",
      "Recommended ingredients: \n",
      "Index(['vinegar_rice', 'onions_green', 'rice_wine', 'ginger', 'dry_sherry',\n",
      "       'pork', 'vegetable', 'sesame_seeds', 'mayonaise', 'juice_lemon'],\n",
      "      dtype='object')\n",
      "\n",
      "\n"
     ]
    }
   ],
   "source": [
    "# Print some recipe + recommendation samples.\n",
    "recipe1 = 7\n",
    "recipe2 = 10\n",
    "\n",
    "print('Recipe {} ({}): \\n{}\\n'.format(X.index[recipe1], \n",
    "                                      cuisines.iloc[recipe1, 0],\n",
    "                                      X.columns[np.where(X.iloc[recipe1,] != 0)]))\n",
    "print('Recommended ingredients: \\n{}\\n\\n'.format(recommendations[recipe1,]))\n",
    "\n",
    "print('Recipe {} ({}): \\n{}\\n'.format(X.index[recipe2], \n",
    "                                      cuisines.iloc[recipe2, 0],\n",
    "                                      X.columns[np.where(X.iloc[recipe2,] != 0)]))\n",
    "print('Recommended ingredients: \\n{}\\n\\n'.format(recommendations[recipe2,]))"
   ]
  },
  {
   "cell_type": "markdown",
   "metadata": {},
   "source": [
    "### Evaluation"
   ]
  },
  {
   "cell_type": "markdown",
   "metadata": {},
   "source": [
    "**Split the data into train and test set**"
   ]
  },
  {
   "cell_type": "code",
   "execution_count": 5,
   "metadata": {
    "collapsed": true
   },
   "outputs": [],
   "source": [
    "X_train, X_test = train_test_split(X, test_size = 0.5, random_state = 1)"
   ]
  },
  {
   "cell_type": "code",
   "execution_count": null,
   "metadata": {},
   "outputs": [],
   "source": [
    "n_recommendations = len(X.columns) - 1\n",
    "results = pd.DataFrame(columns = [\"k\", \"similarity_measure\", \"top10_presence\", \"mean_rank\", \"median_rank\"])\n",
    "\n",
    "# k_grid = [5, 10, 20, 50, 100]\n",
    "k_grid = [5]\n",
    "similarity_measures = [\"cosine\", \"asymmetric_cosine\", \"jaccard\", \"pmi\"]\n",
    "\n",
    "# user_item_matrix = X.head(1400)\n",
    "user_item_matrix = X_train\n",
    "\n",
    "for k, sim in itertools.product(k_grid, similarity_measures):\n",
    "    \n",
    "    model_config = [k, sim, None, n_recommendations]\n",
    "    missing_ingredients, recommendations = held_out_recommendation(user_item_matrix, model_config)\n",
    "    \n",
    "    results = results.append(calculate_metrics(missing_ingredients, recommendations, model_config), ignore_index = True)"
   ]
  },
  {
   "cell_type": "code",
   "execution_count": null,
   "metadata": {},
   "outputs": [],
   "source": [
    "results"
   ]
  },
  {
   "cell_type": "code",
   "execution_count": null,
   "metadata": {
    "collapsed": true
   },
   "outputs": [],
   "source": [
    "results.to_csv('results/parameter_settings_train.csv', sep = '\\t')"
   ]
  }
 ],
 "metadata": {
  "kernelspec": {
   "display_name": "Python 3",
   "language": "python",
   "name": "python3"
  },
  "language_info": {
   "codemirror_mode": {
    "name": "ipython",
    "version": 3
   },
   "file_extension": ".py",
   "mimetype": "text/x-python",
   "name": "python",
   "nbconvert_exporter": "python",
   "pygments_lexer": "ipython3",
   "version": "3.6.2"
  }
 },
 "nbformat": 4,
 "nbformat_minor": 2
}

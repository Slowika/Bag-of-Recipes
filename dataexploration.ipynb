{
 "cells": [
  {
   "cell_type": "markdown",
   "metadata": {},
   "source": [
    "## Collaborative filtering on recipes data\n",
    "### Predicting potential ingredients given partial recipes"
   ]
  },
  {
   "cell_type": "markdown",
   "metadata": {},
   "source": [
    "Import libraries"
   ]
  },
  {
   "cell_type": "code",
   "execution_count": 228,
   "metadata": {},
   "outputs": [],
   "source": [
    "from __future__ import print_function, division\n",
    "import os\n",
    "import numpy as np\n",
    "import pandas as pd\n",
    "import matplotlib.pyplot as plt\n",
    "import sklearn as sklearn\n",
    "import seaborn as sns\n",
    "import json\n",
    "from pandas.io.json import json_normalize\n",
    "from sklearn.feature_extraction import DictVectorizer\n",
    "%matplotlib inline"
   ]
  },
  {
   "cell_type": "markdown",
   "metadata": {},
   "source": [
    "Create a list of ingredients"
   ]
  },
  {
   "cell_type": "code",
   "execution_count": 234,
   "metadata": {},
   "outputs": [],
   "source": [
    "train_ingr = []\n",
    "train_id = []\n",
    "train_cuisine = []\n",
    "\n",
    "test_ingr = []\n",
    "test_id = []\n",
    "\n",
    "with open('data/train.json') as json_file:  \n",
    "    dict_train = json.load(json_file)\n",
    "    \n",
    "with open('data/test.json') as json_file:  \n",
    "    dict_test = json.load(json_file)\n",
    "\n",
    "for train_recipe in dict_train:\n",
    "    concat_ingr_tr = ' '.join([word.replace(\" \", \"_\") for word in train_recipe['ingredients']])\n",
    "    train_ingr.append(concat_ingr_tr)\n",
    "    train_id.append(train_recipe['id'])\n",
    "    train_cuisine.append(train_recipe['cuisine'])\n",
    "        \n",
    "for test_recipe in dict_test:\n",
    "    concat_ingr_ts = ' '.join([word.replace(\" \", \"_\") for word in test_recipe['ingredients']])\n",
    "    test_ingr.append(concat_ingr_ts)  \n",
    "    test_id.append(test_recipe['id'])"
   ]
  },
  {
   "cell_type": "markdown",
   "metadata": {},
   "source": [
    "Convert to bag of words format"
   ]
  },
  {
   "cell_type": "code",
   "execution_count": 216,
   "metadata": {},
   "outputs": [],
   "source": [
    "vectorizer = CountVectorizer()\n",
    "\n",
    "X_train = pd.DataFrame(vectorizer.fit_transform(train_ingr).todense())\n",
    "X_test  = pd.DataFrame(vectorizer.transform(test_ingr).todense())\n",
    "\n",
    "X_train.columns = sorted(vectorizer.vocabulary_, key=vectorizer.vocabulary_.get)\n",
    "X_test.columns = sorted(vectorizer.vocabulary_, key=vectorizer.vocabulary_.get)\n",
    "\n",
    "X_train['id'] = train_id\n",
    "X_test['id'] = test_id"
   ]
  },
  {
   "cell_type": "code",
   "execution_count": 221,
   "metadata": {},
   "outputs": [],
   "source": [
    "ingr_count = X_train.sum(axis=0)\n",
    "ingr_count"
   ]
  },
  {
   "cell_type": "code",
   "execution_count": 223,
   "metadata": {},
   "outputs": [],
   "source": [
    "list_ = [' water','milk']"
   ]
  }
 ],
 "metadata": {
  "kernelspec": {
   "display_name": "Python 3",
   "language": "python",
   "name": "python3"
  },
  "language_info": {
   "codemirror_mode": {
    "name": "ipython",
    "version": 3
   },
   "file_extension": ".py",
   "mimetype": "text/x-python",
   "name": "python",
   "nbconvert_exporter": "python",
   "pygments_lexer": "ipython3",
   "version": "3.6.4"
  }
 },
 "nbformat": 4,
 "nbformat_minor": 2
}

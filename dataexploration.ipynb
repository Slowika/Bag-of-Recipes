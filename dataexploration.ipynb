{
 "cells": [
  {
   "cell_type": "code",
   "execution_count": 57,
   "metadata": {},
   "outputs": [],
   "source": [
    "from __future__ import print_function, division\n",
    "import os\n",
    "import numpy as np\n",
    "import pandas as pd\n",
    "import matplotlib.pyplot as plt\n",
    "import sklearn as sklearn\n",
    "import seaborn as sns\n",
    "import json\n",
    "from pandas.io.json import json_normalize\n",
    "from sklearn.feature_extraction import DictVectorizer\n",
    "%matplotlib inline"
   ]
  },
  {
   "cell_type": "markdown",
   "metadata": {},
   "source": [
    "Create a list of ingredients"
   ]
  },
  {
   "cell_type": "code",
   "execution_count": 169,
   "metadata": {},
   "outputs": [],
   "source": [
    "train_ingr = []\n",
    "train_id = []\n",
    "train_cuisine = []\n",
    "\n",
    "test_ingr = []\n",
    "test_id = []\n",
    "\n",
    "with open('train.json') as json_file:  \n",
    "    dict_train = json.load(json_file)\n",
    "    \n",
    "with open('test.json') as json_file:  \n",
    "    dict_test = json.load(json_file)\n",
    "\n",
    "for train_recipe in dict_train:\n",
    "    concat_ingr_tr = ' '.join([word.replace(\" \", \"_\") for word in train_recipe['ingredients']])\n",
    "    train_ingr.append(concat_ingr_tr)\n",
    "    train_id.append(train_recipe['id'])\n",
    "    train_cuisine.append(train_recipe['cuisine'])\n",
    "        \n",
    "for test_recipe in dict_test:\n",
    "    concat_ingr_ts = ' '.join([word.replace(\" \", \"_\") for word in test_recipe['ingredients']])\n",
    "    test_ingr.append(concat_ingr_ts)  \n",
    "    test_id.append(test_recipe['id'])"
   ]
  },
  {
   "cell_type": "markdown",
   "metadata": {},
   "source": [
    "Convert to bag of words format"
   ]
  },
  {
   "cell_type": "code",
   "execution_count": 170,
   "metadata": {},
   "outputs": [],
   "source": [
    "vectorizer = CountVectorizer()\n",
    "\n",
    "X_train = pd.DataFrame(vectorizer.fit_transform(train_ingr).todense())\n",
    "X_test  = pd.DataFrame(vectorizer.transform(test_ingr).todense())\n",
    "\n",
    "X_train.columns = vectorizer.vocabulary_.keys()\n",
    "X_test.columns = vectorizer.vocabulary_.keys()\n",
    "\n",
    "X_train['id'] = train_id\n",
    "X_test['id'] = test_id\n",
    "\n",
    "X_train['cuisine'] = train_cuisine"
   ]
  },
  {
   "cell_type": "code",
   "execution_count": 183,
   "metadata": {},
   "outputs": [
    {
     "data": {
      "text/plain": [
       "matrix([[0, 0, 0, ..., 0, 0, 0],\n",
       "        [0, 0, 0, ..., 0, 0, 0],\n",
       "        [0, 0, 0, ..., 0, 0, 0],\n",
       "        ...,\n",
       "        [0, 0, 0, ..., 0, 0, 0],\n",
       "        [0, 0, 0, ..., 0, 0, 0],\n",
       "        [0, 0, 0, ..., 0, 0, 0]], dtype=int64)"
      ]
     },
     "execution_count": 183,
     "metadata": {},
     "output_type": "execute_result"
    }
   ],
   "source": [
    "vectorizer.fit_transform(train_ingr).todense()"
   ]
  },
  {
   "cell_type": "code",
   "execution_count": 184,
   "metadata": {},
   "outputs": [
    {
     "data": {
      "text/plain": [
       "(39774, 6867)"
      ]
     },
     "execution_count": 184,
     "metadata": {},
     "output_type": "execute_result"
    }
   ],
   "source": [
    "vectorizer.fit_transform(train_ingr).todense().shape"
   ]
  },
  {
   "cell_type": "code",
   "execution_count": 189,
   "metadata": {},
   "outputs": [],
   "source": [
    "a = X_train.sum(axis=1)"
   ]
  },
  {
   "cell_type": "code",
   "execution_count": 190,
   "metadata": {},
   "outputs": [
    {
     "data": {
      "text/plain": [
       "0        10268\n",
       "1        25704\n",
       "2        20142\n",
       "3        22217\n",
       "4        13182\n",
       "5         6614\n",
       "6        42792\n",
       "7         3745\n",
       "8        16916\n",
       "9        12741\n",
       "10        5888\n",
       "11       45902\n",
       "12        2709\n",
       "13       42012\n",
       "14       31921\n",
       "15       24727\n",
       "16       34470\n",
       "17        1425\n",
       "18        2945\n",
       "19        8165\n",
       "20       13133\n",
       "21       40529\n",
       "22       40996\n",
       "23       29642\n",
       "24       49145\n",
       "25       26720\n",
       "26       27986\n",
       "27       22099\n",
       "28        9211\n",
       "29        1303\n",
       "         ...  \n",
       "39744     5689\n",
       "39745     5516\n",
       "39746    32070\n",
       "39747     5125\n",
       "39748     9536\n",
       "39749    45613\n",
       "39750    49684\n",
       "39751    30746\n",
       "39752     5916\n",
       "39753    33307\n",
       "39754    27100\n",
       "39755    36351\n",
       "39756    15518\n",
       "39757    34336\n",
       "39758    47403\n",
       "39759    12163\n",
       "39760    41847\n",
       "39761     6505\n",
       "39762    26658\n",
       "39763    44806\n",
       "39764     8103\n",
       "39765     6157\n",
       "39766    25568\n",
       "39767    24363\n",
       "39768     7387\n",
       "39769    29123\n",
       "39770    11469\n",
       "39771     2250\n",
       "39772    41903\n",
       "39773     2374\n",
       "Length: 39774, dtype: int64"
      ]
     },
     "execution_count": 190,
     "metadata": {},
     "output_type": "execute_result"
    }
   ],
   "source": []
  },
  {
   "cell_type": "code",
   "execution_count": null,
   "metadata": {},
   "outputs": [],
   "source": []
  }
 ],
 "metadata": {
  "kernelspec": {
   "display_name": "Python 3",
   "language": "python",
   "name": "python3"
  },
  "language_info": {
   "codemirror_mode": {
    "name": "ipython",
    "version": 3
   },
   "file_extension": ".py",
   "mimetype": "text/x-python",
   "name": "python",
   "nbconvert_exporter": "python",
   "pygments_lexer": "ipython3",
   "version": "3.6.4"
  }
 },
 "nbformat": 4,
 "nbformat_minor": 2
}

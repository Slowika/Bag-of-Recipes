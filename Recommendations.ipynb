{
 "cells": [
  {
   "cell_type": "code",
   "execution_count": 15,
   "metadata": {},
   "outputs": [],
   "source": [
    "import os\n",
    "import random\n",
    "import numpy as np\n",
    "import pandas as pd\n",
    "import matplotlib.pyplot as plt\n",
    "import sklearn as sklearn\n",
    "import seaborn as sns\n",
    "import statistics\n",
    "import itertools\n",
    "\n",
    "from sklearn.metrics.pairwise import cosine_similarity\n",
    "from sklearn.model_selection  import train_test_split\n",
    "from similarity_functions     import asymmetric_cosine, jaccard \n",
    "\n",
    "np.seterr(divide='ignore', invalid='ignore')\n",
    "%matplotlib inline"
   ]
  },
  {
   "cell_type": "code",
   "execution_count": 16,
   "metadata": {},
   "outputs": [],
   "source": [
    "# Load data.\n",
    "X = pd.read_csv('train_dataset.csv', sep = '\\t', index_col = 0).drop('cuisine', axis = 1)\n",
    "cuisines = pd.read_csv('train_dataset.csv', sep = '\\t', usecols = ['cuisine'])\n",
    "cuisines.set_index(X.index, inplace = True)"
   ]
  },
  {
   "cell_type": "code",
   "execution_count": 17,
   "metadata": {},
   "outputs": [],
   "source": [
    "def recommend_ingredients(partial_recipes, user_item_matrix, k = 10, similarity_measure = \"cosine\", \n",
    "                          similarity_matrix = None, n_recommendations = 10, alpha = 0.2):\n",
    "    \"\"\"Recommend ingredients to (partial) recipes based on the similarity between ingredients.\n",
    "    \n",
    "    Inputs:\n",
    "        - partial_recipes:    pandas dataframe of recipes that ingredient recommendations are produced for. Should be\n",
    "                              of the shape recipes x ingredients.\n",
    "                           \n",
    "        - user_item_matrix:   pandas dataframe of training recipes. Should be of the shape recipes x ingredients.\n",
    "        \n",
    "        - k:                  number of neighbours (ingredients) used when calculating the ingredient \n",
    "                              recommendation scores.\n",
    "        \n",
    "        - similarity_measure: the measure used for calculating the similarity between ingredients. One of\n",
    "                              'cosine', 'asymmetric_cosine', 'jaccard', 'pmi'.\n",
    "                              \n",
    "        - similarity_matrix:  the precomputed matrix of ingredient similarities. If not given, this will be\n",
    "                              computed by the function.\n",
    "                              \n",
    "        - n_recommendations:  the desired number of recommended ingredients per recipe.\n",
    "        \n",
    "    Outputs a matrix of the recommended ingredients (columns) for the given partial recipes (rows).\n",
    "        \n",
    "    \"\"\"\n",
    "    \n",
    "    # Calculate the similarity matrix if none was given as input.\n",
    "    if np.all(similarity_matrix == None):\n",
    "        \n",
    "        if similarity_measure == \"cosine\":\n",
    "            similarity_matrix = cosine_similarity(user_item_matrix.T)\n",
    "            \n",
    "        elif similarity_measure == \"asymmetric_cosine\":\n",
    "            similarity_matrix = asymmetric_cosine(user_item_matrix, alpha)\n",
    "            \n",
    "        elif similarity_measure == \"jaccard\":\n",
    "            similarity_matrix = jaccard(user_item_matrix)\n",
    "            \n",
    "        elif similarity_measure == \"pmi\":\n",
    "            pass\n",
    "        \n",
    "        else: \n",
    "            raise ValueError(\"The similarity measure must be one of: 'cosine', 'asymmetric_cosine', 'jaccard', 'pmi'.\")\n",
    "    \n",
    "    # Set similarity to self to zero.\n",
    "    np.fill_diagonal(similarity_matrix, 0)     \n",
    "    \n",
    "    # For each ingredient, find the ingredients that are not among the k most similar and set similarity to zero.\n",
    "    for i in range(np.shape(similarity_matrix)[0]):\n",
    "        not_kNN = similarity_matrix[i, ] < similarity_matrix[i, np.argpartition(similarity_matrix[i, ], -k)[-k]]\n",
    "        similarity_matrix[i, not_kNN] = 0\n",
    "\n",
    "    # Calculate the ingredient scores.\n",
    "    ingredient_scores = np.matmul(similarity_matrix, partial_recipes.T) / np.sum(abs(similarity_matrix), axis = 1)[:, None]\n",
    "    ingredient_scores = ingredient_scores.T\n",
    "    \n",
    "    # Set ingredient scores of already present ingredients to zero.\n",
    "    ingredient_scores[partial_recipes == 1] = 0\n",
    "   \n",
    "    # For each recipe, get the indices of the *n_recommendations* highest-scoring ingredients in order.\n",
    "    recommendations_idx = np.argsort(-ingredient_scores, axis = 1)[:, :n_recommendations]\n",
    "    \n",
    "    # Convert recommendation indices to ingredient names.\n",
    "    recommendations = user_item_matrix.columns[recommendations_idx]\n",
    "    \n",
    "    return recommendations"
   ]
  },
  {
   "cell_type": "code",
   "execution_count": 18,
   "metadata": {
    "scrolled": false
   },
   "outputs": [],
   "source": [
    "# Apply CF with cosine similarity to original recipes.\n",
    "recommendations = recommend_ingredients(X.head(1050), X.head(1050), similarity_measure = \"asymmetric_cosine\")"
   ]
  },
  {
   "cell_type": "code",
   "execution_count": 19,
   "metadata": {
    "scrolled": false
   },
   "outputs": [
    {
     "name": "stdout",
     "output_type": "stream",
     "text": [
      "Recipe 16903 (mexican): \n",
      "Index(['cheddar_cheese', 'jalapeno_chilies', 'lettuce', 'lime', 'pork',\n",
      "       'purple_onion', 'peppers', 'olive', 'cilantro_chopped_fresh',\n",
      "       'pepper_ground_black', 'tortillas_corn'],\n",
      "      dtype='object')\n",
      "\n",
      "Recommended ingredients: \n",
      "Index(['tomatoes', 'tortilla', 'beans', 'salsa', 'chile', 'avocado',\n",
      "       'cilantro_chopped', 'beans_black', 'cream_sour', 'mango'],\n",
      "      dtype='object')\n",
      "\n",
      "\n",
      "Recipe 3735 (italian): \n",
      "Index(['eggs', 'flour', 'nuts', 'sugar', 'powder_baking', 'olive',\n",
      "       'extract_vanilla'],\n",
      "      dtype='object')\n",
      "\n",
      "Recommended ingredients: \n",
      "Index(['milk', 'peaches', 'sugar_white', 'allpurpose_flour', 'cream',\n",
      "       'baking_soda', 'butter', 'large_eggs', 'cornmeal', 'frozen_peas'],\n",
      "      dtype='object')\n",
      "\n",
      "\n"
     ]
    }
   ],
   "source": [
    "# Print some recipe + recommendation samples.\n",
    "recipe1 = 7\n",
    "recipe2 = 6\n",
    "\n",
    "print('Recipe {} ({}): \\n{}\\n'.format(X.index[recipe1], \n",
    "                                      cuisines.iloc[recipe1, 0],\n",
    "                                      X.columns[np.where(X.iloc[recipe1,] != 0)]))\n",
    "print('Recommended ingredients: \\n{}\\n\\n'.format(recommendations[recipe1,]))\n",
    "\n",
    "print('Recipe {} ({}): \\n{}\\n'.format(X.index[recipe2], \n",
    "                                      cuisines.iloc[recipe2, 0],\n",
    "                                      X.columns[np.where(X.iloc[recipe2,] != 0)]))\n",
    "print('Recommended ingredients: \\n{}\\n\\n'.format(recommendations[recipe2,]))"
   ]
  },
  {
   "cell_type": "markdown",
   "metadata": {},
   "source": [
    "### Evaluation"
   ]
  },
  {
   "cell_type": "code",
   "execution_count": 21,
   "metadata": {
    "scrolled": false
   },
   "outputs": [
    {
     "data": {
      "text/plain": [
       "[array(['yellow_corn', 'vegetable', 'pepper_ground_black', 'pepper_ground',\n",
       "        'thyme', 'powder_garlic', 'mayonaise', 'chilies_green',\n",
       "        'yellow_onion', 'chicken'], dtype=object),\n",
       " array(['ground_ginger', 'ginger_fresh', 'cinnamon_ground', 'sugar',\n",
       "        'powder_baking', 'extract_vanilla', 'butter', 'olives_black',\n",
       "        'garlic', 'purple_onion'], dtype=object),\n",
       " array(['ground_ginger', 'ginger_fresh', 'cinnamon_ground', 'sugar',\n",
       "        'powder_baking', 'extract_vanilla', 'olives_black', 'garlic',\n",
       "        'purple_onion', 'seasoning'], dtype=object),\n",
       " array(['ginger_fresh', 'extract_vanilla', 'ground_ginger', 'sugar',\n",
       "        'powder_baking', 'cinnamon_ground', 'eggs', 'vegetable', 'thyme',\n",
       "        'yellow_corn'], dtype=object),\n",
       " array(['chilies_green', 'mayonaise', 'chicken_breasts', 'chicken',\n",
       "        'powder_garlic', 'yellow_onion', 'yellow_corn', 'flour',\n",
       "        'pepper_ground', 'thyme'], dtype=object)]"
      ]
     },
     "execution_count": 21,
     "metadata": {},
     "output_type": "execute_result"
    }
   ],
   "source": [
    "def held_out_recommendation(user_item_matrix, model_config=[10, \"cosine\", None, 10]):\n",
    "    \"\"\"\n",
    "    Returns a list of held out ingredients and a list of corresponding recommendations\n",
    "    \"\"\"\n",
    "    held_out_ingredients = []\n",
    "    recommendations = []\n",
    "\n",
    "    for index, row in user_item_matrix.iterrows():\n",
    "        # Current training data: exclude the recipe tested\n",
    "        X_curr = user_item_matrix.copy()\n",
    "        X_curr.drop(index, inplace=True)\n",
    "        \n",
    "        # Current testing example: remove one ingredient\n",
    "        recipe = row.copy()\n",
    "        ing = recipe[recipe==1].sample(axis=0, random_state = 1).index.values[0]\n",
    "        recipe[ing] = 0\n",
    "\n",
    "        # Model tested\n",
    "        k = model_config[0]\n",
    "        similarity_measure = model_config[1]\n",
    "        similarity_matrix = model_config[2]\n",
    "        n_recommendations = model_config[3]\n",
    "        \n",
    "        # Get recommendations\n",
    "        recommendation = recommend_ingredients(pd.DataFrame(recipe).T, X_curr, k, similarity_measure, similarity_matrix, n_recommendations)[0]\n",
    "        \n",
    "        # Store the removed ingredient and corresponding recommendations\n",
    "        held_out_ingredients.append(ing)\n",
    "        recommendations.append(recommendation)\n",
    "        \n",
    "    return (held_out_ingredients, recommendations)\n",
    "\n",
    "# Example\n",
    "held_out_recommendation(X.head())[1]\n",
    "    "
   ]
  },
  {
   "cell_type": "code",
   "execution_count": 22,
   "metadata": {},
   "outputs": [],
   "source": [
    "def metric_1(missing_ingredients, recommendations):\n",
    "    \"\"\"\n",
    "    Returns the percentage of recipes for which the missing ingredient\n",
    "    is among the top-10 recommended ingredients. (Mean Precision @ 10)\n",
    "    \"\"\"    \n",
    "    matches = [1 for i in range(len(missing_ingredients)) if missing_ingredients[i] in recommendations[i][:10]]\n",
    "    \n",
    "    return len(matches)/len(missing_ingredients)\n",
    "\n",
    "\n",
    "def metric_2(missing_ingredients, recommendations):\n",
    "    \"\"\"\n",
    "    Mean rank of the missing ingredients in the list of recommended ingredients.\n",
    "    \"\"\"\n",
    "    ranks = [np.where(missing_ingredients[i] == recommendations[i])[0][0]\n",
    "             for i in range(len(missing_ingredients)) if missing_ingredients[i] in recommendations[i]]\n",
    "\n",
    "    return sum(ranks)/len(ranks)\n",
    "\n",
    "\n",
    "def metric_3(missing_ingredients, recommendations):\n",
    "    \"\"\"\n",
    "    Median rank of the missing ingredients in the list of recommended ingredients.\n",
    "    \"\"\"\n",
    "    ranks = [np.where(missing_ingredients[i] == recommendations[i])[0][0]\n",
    "             for i in range(len(missing_ingredients)) if missing_ingredients[i] in recommendations[i]]\n",
    "\n",
    "    return statistics.median(sorted(ranks))"
   ]
  },
  {
   "cell_type": "code",
   "execution_count": 23,
   "metadata": {},
   "outputs": [],
   "source": [
    "def calculate_metrics(missing_ingredients, recommendations, model_config):\n",
    "    \"\"\"Calculate three evaluation metrics of recommendations made.\n",
    "    \n",
    "    Inputs:\n",
    "        - missing_ingredients: list of the held-out ingredients.\n",
    "        - recommendations: list of arrays with corresponding recommendations.\n",
    "        - model_config: model settings used to make the recommendations.\n",
    "        \n",
    "    Outputs a dataframe with:\n",
    "        - crucial model settings.\n",
    "        - percentage of recipes for which the missing ingredient is among the top-10 recommended ingredients.\n",
    "        - mean rank of the missing ingredients in the list of recommended ingredients.\n",
    "        - median rank of the missing ingredients in the list of recommended ingredients.    \n",
    "    \"\"\"\n",
    "    \n",
    "    metrics = pd.DataFrame(columns = [\"k\", \"similarity_measure\", \"top10_presence\", \"mean_rank\", \"median_rank\"])\n",
    "    metrics.loc[0, \"k\"]                  = model_config[0]\n",
    "    metrics.loc[0, \"similarity_measure\"] = model_config[1]\n",
    "    metrics.loc[0, \"top10_presence\"]     = metric_1(missing_ingredients, recommendations) \n",
    "    metrics.loc[0, \"mean_rank\"]          = metric_2(missing_ingredients, recommendations)\n",
    "    metrics.loc[0, \"median_rank\"]        = metric_3(missing_ingredients, recommendations)\n",
    "    \n",
    "    return metrics"
   ]
  },
  {
   "cell_type": "markdown",
   "metadata": {},
   "source": [
    "**Split the data into train and test set**"
   ]
  },
  {
   "cell_type": "code",
   "execution_count": 25,
   "metadata": {},
   "outputs": [],
   "source": [
    "X_train, X_test = train_test_split(X, test_size = 0.5, random_state = 1)"
   ]
  },
  {
   "cell_type": "code",
   "execution_count": 26,
   "metadata": {},
   "outputs": [],
   "source": [
    "n_recommendations = len(X.columns) - 1\n",
    "results = pd.DataFrame(columns = [\"k\", \"similarity_measure\", \"top10_presence\", \"mean_rank\", \"median_rank\"])\n",
    "\n",
    "k_grid = [5, 10, 20, 50, 100]\n",
    "similarity_measures = [\"cosine\"] #, \"asymmetric_cosine\", \"jaccard\"]\n",
    "\n",
    "user_item_matrix = X.head(1400)\n",
    "# user_item_matrix = X_train\n",
    "\n",
    "for k, sim in itertools.product(k_grid, similarity_measures):\n",
    "    \n",
    "    model_config = [k, sim, None, n_recommendations]\n",
    "    missing_ingredients, recommendations = held_out_recommendation(user_item_matrix, model_config)\n",
    "    \n",
    "    results = results.append(calculate_metrics(missing_ingredients, recommendations, model_config), ignore_index = True)"
   ]
  },
  {
   "cell_type": "code",
   "execution_count": 27,
   "metadata": {},
   "outputs": [
    {
     "data": {
      "text/html": [
       "<div>\n",
       "<style scoped>\n",
       "    .dataframe tbody tr th:only-of-type {\n",
       "        vertical-align: middle;\n",
       "    }\n",
       "\n",
       "    .dataframe tbody tr th {\n",
       "        vertical-align: top;\n",
       "    }\n",
       "\n",
       "    .dataframe thead th {\n",
       "        text-align: right;\n",
       "    }\n",
       "</style>\n",
       "<table border=\"1\" class=\"dataframe\">\n",
       "  <thead>\n",
       "    <tr style=\"text-align: right;\">\n",
       "      <th></th>\n",
       "      <th>k</th>\n",
       "      <th>similarity_measure</th>\n",
       "      <th>top10_presence</th>\n",
       "      <th>mean_rank</th>\n",
       "      <th>median_rank</th>\n",
       "    </tr>\n",
       "  </thead>\n",
       "  <tbody>\n",
       "    <tr>\n",
       "      <th>0</th>\n",
       "      <td>5</td>\n",
       "      <td>cosine</td>\n",
       "      <td>0.261429</td>\n",
       "      <td>77.9349</td>\n",
       "      <td>41</td>\n",
       "    </tr>\n",
       "    <tr>\n",
       "      <th>1</th>\n",
       "      <td>10</td>\n",
       "      <td>cosine</td>\n",
       "      <td>0.297857</td>\n",
       "      <td>65.4399</td>\n",
       "      <td>30</td>\n",
       "    </tr>\n",
       "    <tr>\n",
       "      <th>2</th>\n",
       "      <td>20</td>\n",
       "      <td>cosine</td>\n",
       "      <td>0.317143</td>\n",
       "      <td>56.9964</td>\n",
       "      <td>26</td>\n",
       "    </tr>\n",
       "    <tr>\n",
       "      <th>3</th>\n",
       "      <td>50</td>\n",
       "      <td>cosine</td>\n",
       "      <td>0.309286</td>\n",
       "      <td>52.4807</td>\n",
       "      <td>26</td>\n",
       "    </tr>\n",
       "    <tr>\n",
       "      <th>4</th>\n",
       "      <td>100</td>\n",
       "      <td>cosine</td>\n",
       "      <td>0.256429</td>\n",
       "      <td>51.8986</td>\n",
       "      <td>29</td>\n",
       "    </tr>\n",
       "  </tbody>\n",
       "</table>\n",
       "</div>"
      ],
      "text/plain": [
       "     k similarity_measure top10_presence mean_rank median_rank\n",
       "0    5             cosine       0.261429   77.9349          41\n",
       "1   10             cosine       0.297857   65.4399          30\n",
       "2   20             cosine       0.317143   56.9964          26\n",
       "3   50             cosine       0.309286   52.4807          26\n",
       "4  100             cosine       0.256429   51.8986          29"
      ]
     },
     "execution_count": 27,
     "metadata": {},
     "output_type": "execute_result"
    }
   ],
   "source": [
    "results"
   ]
  },
  {
   "cell_type": "code",
   "execution_count": null,
   "metadata": {},
   "outputs": [],
   "source": [
    "results.to_csv('results/parameter_settings_head1400.csv', sep = '\\t')"
   ]
  },
  {
   "cell_type": "markdown",
   "metadata": {},
   "source": [
    "### Parameter setting"
   ]
  }
 ],
 "metadata": {
  "kernelspec": {
   "display_name": "Python 3",
   "language": "python",
   "name": "python3"
  },
  "language_info": {
   "codemirror_mode": {
    "name": "ipython",
    "version": 3
   },
   "file_extension": ".py",
   "mimetype": "text/x-python",
   "name": "python",
   "nbconvert_exporter": "python",
   "pygments_lexer": "ipython3",
   "version": "3.6.4"
  }
 },
 "nbformat": 4,
 "nbformat_minor": 2
}
